{
  "nbformat": 4,
  "nbformat_minor": 0,
  "metadata": {
    "colab": {
      "provenance": []
    },
    "kernelspec": {
      "name": "python3",
      "display_name": "Python 3"
    },
    "language_info": {
      "name": "python"
    }
  },
  "cells": [
    {
      "cell_type": "markdown",
      "source": [
        "#Theory Questions"
      ],
      "metadata": {
        "id": "hr9FjI66-EeF"
      }
    },
    {
      "cell_type": "markdown",
      "source": [
        "1. What is Object-Oriented Programming (OOP)?  \n",
        "OOP is a programming paradigm that structures code around \"objects\" rather than just functions. It helps model real-world concepts like inheritance and data hiding within programs.\n",
        "\n",
        "2. What is a class in OOP?  \n",
        "A class is a blueprint or a template for creating objects. It defines the common attributes (data) and methods (functions) that all objects created from it will have.   \n",
        "class Dog: # This is our dog blueprint\n",
        "    pass\n",
        "3. What is an object in OOP?  \n",
        "An object is an instance of a class. It's a concrete entity created from that class blueprint, with its own specific data.  \n",
        "Example  \n",
        "class Dog: pass\n",
        "my_dog = Dog() # my_dog is an actual dog object\n",
        "4. What is the difference between abstraction and encapsulation?\n",
        "Abstraction focuses on showing only essential information and hiding complex implementation details. Encapsulation is the bundling of data and methods that operate on that data into a single unit (a class), and restricting direct access to some components.\n",
        "\n",
        "5. What are dunder methods in Python?\n",
        "Dunder methods are special methods with two leading and two trailing underscores (e.g.,\n",
        "__init__, __str__). They allow you to define how objects of your class should behave in certain situations.\n",
        "Example  \n",
        "class Book:  \n",
        "    def __init__(self, title): # This is a dunder method.  \n",
        "    self.title = title\n",
        "6. Explain the concept of inheritance in OOP.\n",
        "Inheritance is a mechanism where a new class (child class) can inherit attributes and methods from an existing class (parent class). This promotes code reusability and establishes an \"is-a\" relationship.   \n",
        "Example   \n",
        "class Animal:  \n",
        "    def speak(self): print(\"Generic sound\")  \n",
        "class Dog(Animal): # Dog inherits from Animal.  \n",
        "    pass\n",
        "7. What is polymorphism in OOP?\n",
        "Polymorphism means \"many forms\". In OOP, it's the ability of different objects to respond to the same method call in their own specific ways.  Example  \n",
        "class Guitar:  \n",
        "    def play(self): print(\"Strum!\")  \n",
        "class Piano:  \n",
        "    def play(self): print(\"Play keys!\")  \n",
        "8. How is encapsulation achieved in Python?  \n",
        "Encapsulation in Python is primarily achieved by bundling data and methods within a class. Conventionally, a double leading underscore (\n",
        "__) is used for \"private\" attributes to make them harder to access directly.\n",
        "9. What is a constructor in Python?  \n",
        "In Python, a constructor is the special method named\n",
        "__init__. It's automatically called when a new object is created and is used to initialize the object's attributes.  \n",
        "Example   \n",
        "class Person:  \n",
        "    def __init__(self, name): # This is the constructor  \n",
        "        self.name = name  \n",
        "10. What are class and static methods in Python?   \n",
        "A class method is bound to the class and receives the class itself (cls) as its first argument. A static method belongs to the class but doesn't operate on the instance or class, receiving no self or cls.   \n",
        "Example   \n",
        "class Math:  \n",
        "    @classmethod  \n",
        "    def add(cls, a, b): return a + b  \n",
        "    @staticmethod   \n",
        "    def mult(a, b): return a * b  \n",
        "11. What is method overloading in Python?  \n",
        "Python does not support traditional method overloading (multiple methods with the same name but different parameters) directly. Similar functionality can be achieved using default argument values or variable-length arguments.  \n",
        "\n",
        "12. What is method overriding in OOP?  \n",
        "Method overriding occurs when a subclass provides its own specific implementation for a method that is already defined in its superclass. This allows child classes to have different behavior for inherited methods.\n",
        "Example   \n",
        "class Animal:  \n",
        "    def sound(self): print(\"Animal sound\")  \n",
        "class Cat(Animal):  \n",
        "    def sound(self): print(\"Meow!\") # Overriding sound()  \n",
        "13. What is a property decorator in Python?  \n",
        "The @property decorator is a built-in decorator that allows you to define methods which can be accessed like attributes. It's used for creating \"getter,\" \"setter,\" and \"deleter\" methods to add logic to attribute access.   \n",
        "Example   \n",
        "class Product:  \n",
        "    def __init__(self, price): self._price = price  \n",
        "    @property  \n",
        "    def price(self): return self._price # Access price as an attribute  \n",
        "14. Why is polymorphism important in OOP?  \n",
        "Polymorphism is important because it enables more flexible and extensible code. It allows you to write generic code that can work with different types of objects, improving code reusability and maintainability.   \n",
        "\n",
        "15. What is an abstract class in Python?  \n",
        "An abstract class is a class that cannot be instantiated directly and serves as a base for other classes. It can contain abstract methods (defined with\n",
        "@abstractmethod) that must be implemented by concrete subclasses.\n",
        "Example  \n",
        "from abc import ABC, abstractmethod  \n",
        "class Vehicle(ABC):  \n",
        "    @abstractmethod  \n",
        "    def move(self): pass # Must be implemented by subclasses  \n",
        "16. What are the advantages of OOP?  \n",
        "The advantages of OOP include modularity, reusability, maintainability, flexibility, and improved data security. It helps in modeling real-world entities more effectively.\n",
        "\n",
        "17. What is the difference between a class variable and an instance variable?  \n",
        "A class variable is shared by all instances of a class and is defined directly within the class. An instance variable is unique to each instance (object) and is defined inside the constructor, typically with\n",
        "self.\n",
        "Example  \n",
        "class Robot:\n",
        "    count = 0 # Class variable\n",
        "    def __init__(self): self.name = \"Robo\" # Instance variable\n",
        "18. What is multiple inheritance in Python?\n",
        "Multiple inheritance is a feature where a class can inherit from more than one parent class. This allows the child class to acquire attributes and methods from all its parent classes.   \n",
        "Example  \n",
        "class Flyer: pass  \n",
        "class Swimmer: pass  \n",
        "class Duck(Flyer, Swimmer): pass # Duck inherits from both  \n",
        "19. Explain the purpose of\n",
        "__str__ and __repr__ methods in Python.   \n",
        "__str__ returns a human-readable string representation of an object, intended for end-users (e.g., when using print()).\n",
        "__repr__ returns an \"official\" string representation, primarily for developers and debugging, ideally allowing recreation of the object.\n",
        "\n",
        "20. What is the significance of the\n",
        "super() function in Python?   \n",
        "The\n",
        "super() function is used to call methods from a parent or sibling class. Its primary use is in cooperative multiple inheritance, often within the\n",
        "__init__ method of a subclass to ensure proper initialization of parent classes.   \n",
        "Example    \n",
        "class Parent:  \n",
        "    def greet(self): print(\"Hi from Parent\")  \n",
        "class Child(Parent):  \n",
        "    def greet(self): super().greet() # Calls parent's greet  \n",
        "21. What is the significance of the\n",
        "__del__ method in Python?   \n",
        "The __del__ method is a special method called the destructor. It's invoked when an object is about to be garbage-collected, typically used for cleanup operations like closing files or releasing resources.   \n",
        "Example    \n",
        "class FileHandler:  \n",
        "    def __init__(self, name): self.file = open(name, 'w')  \n",
        "    def __del__(self): self.file.close() # Close file when object is deleted  \n",
        "22. What is the difference between\n",
        "@staticmethod and @classmethod in Python?   \n",
        "@staticmethod functions belong to the class but don't receive self or cls, acting like regular functions within the class.\n",
        "@classmethod functions receive the class itself (cls) as the first argument and can operate on class-level attributes.\n",
        "\n",
        "23. How does polymorphism work in Python with inheritance?  \n",
        "With inheritance, polymorphism in Python functions through method overriding. When a subclass overrides a parent method, Python dynamically determines and executes the correct method implementation based on the actual object's type at runtime.   \n",
        "Example    \n",
        "class Bird:  \n",
        "    def fly(self): print(\"Generic fly\")  \n",
        "class Eagle(Bird):  \n",
        "    def fly(self): print(\"Soar!\")  \n",
        "def make_fly(b): b.fly() # Calls Eagle's fly if b is Eagle\n",
        "24. What is method chaining in Python OOP?  \n",
        "Method chaining (or cascading) is a technique where multiple method calls are invoked on the same object in a single expression. This is possible when methods return\n",
        "self, allowing subsequent methods to operate on the modified object.   \n",
        "Example    \n",
        "class Pipeline:  \n",
        "    def add(self, x): self.result = x; return self\n",
        "    def double(self): self.result *= 2; return self\n",
        "p = Pipeline().add(5).double() # Chaining methods\n",
        "25. What is the purpose of the\n",
        "__call__ method in Python?   \n",
        "The\n",
        "__call__ method allows an object to be treated and called like a function. If defined, instances of the class can be invoked directly using parentheses\n",
        "().   \n",
        "Example  \n",
        "class Greeter:  \n",
        "    def __call__(self, name): print(f\"Hello, {name}!\")  \n",
        "greet = Greeter()  \n",
        "greet(\"Alice\") # Calling the object like a function  "
      ],
      "metadata": {
        "id": "TczRY7lrC4I0"
      }
    },
    {
      "cell_type": "markdown",
      "source": [
        "#Practical Question"
      ],
      "metadata": {
        "id": "xadLRy7FJGtX"
      }
    },
    {
      "cell_type": "code",
      "source": [
        "#1.\n",
        "class Animal:\n",
        "    def speak(self):\n",
        "        print(\"Animal speaks\")\n",
        "\n",
        "class Dog(Animal):\n",
        "    def speak(self):\n",
        "        print(\"Bark!\")\n",
        "a=Animal()\n",
        "d=Dog()\n",
        "a.speak()\n",
        "d.speak()"
      ],
      "metadata": {
        "colab": {
          "base_uri": "https://localhost:8080/"
        },
        "id": "8aj7gYd4JKq-",
        "outputId": "0d5074fe-2d37-48a2-838c-67af70812728"
      },
      "execution_count": null,
      "outputs": [
        {
          "output_type": "stream",
          "name": "stdout",
          "text": [
            "Animal speaks\n",
            "Bark!\n"
          ]
        }
      ]
    },
    {
      "cell_type": "code",
      "source": [
        "#2.\n",
        "class Shape(ABC):\n",
        "    @abstractmethod\n",
        "    def area(self): pass\n",
        "\n",
        "class Circle(Shape):\n",
        "    def __init__(self, radius):\n",
        "        self.radius = radius\n",
        "    def area(self):\n",
        "        return 3.14 * self.radius ** 2\n",
        "\n",
        "class Rectangle(Shape):\n",
        "    def __init__(self, length, width):\n",
        "        self.length = length\n",
        "        self.width = width\n",
        "    def area(self):\n",
        "        return self.length * self.width\n",
        "C=Circle(5)\n",
        "R=Rectangle(5,7)\n",
        "print(C.area())\n",
        "print(R.area())"
      ],
      "metadata": {
        "colab": {
          "base_uri": "https://localhost:8080/"
        },
        "id": "_gOWKWOyJKoG",
        "outputId": "6b572b85-0255-420e-c76d-7c2b731a71de"
      },
      "execution_count": null,
      "outputs": [
        {
          "output_type": "stream",
          "name": "stdout",
          "text": [
            "78.5\n",
            "35\n"
          ]
        }
      ]
    },
    {
      "cell_type": "code",
      "source": [
        "#3.\n",
        "class Vehicle:\n",
        "    def __init__(self, type):\n",
        "        self.type = type\n",
        "\n",
        "class Car(Vehicle):\n",
        "    def __init__(self, type, brand):\n",
        "        super().__init__(type)\n",
        "        self.brand = brand\n",
        "\n",
        "class ElectricCar(Car):\n",
        "    def __init__(self, type, brand, battery):\n",
        "        super().__init__(type, brand)\n",
        "        self.battery = battery\n",
        "V=Vehicle(\"Car\")\n",
        "print(V.type)\n",
        "V=Vehicle(\"ElectricCar\")\n",
        "print(V.type)"
      ],
      "metadata": {
        "colab": {
          "base_uri": "https://localhost:8080/"
        },
        "id": "cjBXxv4-JKk-",
        "outputId": "33cb2171-c564-4876-ee66-10468e976bab"
      },
      "execution_count": null,
      "outputs": [
        {
          "output_type": "stream",
          "name": "stdout",
          "text": [
            "Car\n",
            "ElectricCar\n"
          ]
        }
      ]
    },
    {
      "cell_type": "code",
      "source": [
        "#4.\n",
        "class Bird:\n",
        "    def fly(self):\n",
        "        print(\"Some birds can fly\")\n",
        "\n",
        "class Sparrow(Bird):\n",
        "    def fly(self):\n",
        "        print(\"Sparrow flies high\")\n",
        "\n",
        "class Penguin(Bird):\n",
        "    def fly(self):\n",
        "        print(\"Penguins cannot fly\")\n",
        "\n",
        "S=Sparrow()\n",
        "S.fly()\n",
        "P=Penguin()\n",
        "P.fly()"
      ],
      "metadata": {
        "colab": {
          "base_uri": "https://localhost:8080/"
        },
        "id": "NuVdd-NVJKiJ",
        "outputId": "b5369e69-74d8-4d38-b145-89d850af1e7e"
      },
      "execution_count": null,
      "outputs": [
        {
          "output_type": "stream",
          "name": "stdout",
          "text": [
            "Sparrow flies high\n",
            "Penguins cannot fly\n"
          ]
        }
      ]
    },
    {
      "cell_type": "code",
      "source": [
        "#5.\n",
        "class BankAccount:\n",
        "    def __init__(self, balance=0):\n",
        "        self.__balance = balance\n",
        "    def deposit(self, amount):\n",
        "        self.__balance += amount\n",
        "    def withdraw(self, amount):\n",
        "        if amount <= self.__balance:\n",
        "            self.__balance -= amount\n",
        "    def check_balance(self):\n",
        "        return self.__balance\n",
        "D = BankAccount(1000)\n",
        "D.deposit(500)\n",
        "D.withdraw(200)\n",
        "print(D.check_balance())"
      ],
      "metadata": {
        "colab": {
          "base_uri": "https://localhost:8080/"
        },
        "id": "AHC0fK8QJKfg",
        "outputId": "eefc0bd4-29fc-48a3-836b-61cc22d4c432"
      },
      "execution_count": null,
      "outputs": [
        {
          "output_type": "stream",
          "name": "stdout",
          "text": [
            "1300\n"
          ]
        }
      ]
    },
    {
      "cell_type": "code",
      "source": [
        "#6.\n",
        "class Instrument:\n",
        "    def play(self):\n",
        "        print(\"Instrument is playing\")\n",
        "\n",
        "class Guitar(Instrument):\n",
        "    def play(self):\n",
        "        print(\"Guitar is strumming\")\n",
        "\n",
        "class Piano(Instrument):\n",
        "    def play(self):\n",
        "        print(\"Piano is playing melody\")\n",
        "\n",
        "G=Guitar()\n",
        "G.play()\n",
        "P=Piano()\n",
        "P.play()"
      ],
      "metadata": {
        "colab": {
          "base_uri": "https://localhost:8080/"
        },
        "id": "9SNFdeD3JKcp",
        "outputId": "a5d37847-43ad-4370-d571-7e9975f45df4"
      },
      "execution_count": null,
      "outputs": [
        {
          "output_type": "stream",
          "name": "stdout",
          "text": [
            "Guitar is strumming\n",
            "Piano is playing melody\n"
          ]
        }
      ]
    },
    {
      "cell_type": "code",
      "source": [
        "#7.\n",
        "class MathOperations:\n",
        "    @classmethod\n",
        "    def add_numbers(cls, a, b):\n",
        "        return a + b\n",
        "    @staticmethod\n",
        "    def subtract_numbers(a, b):\n",
        "        return a - b\n",
        "\n",
        "print(MathOperations.add_numbers(5, 3))\n",
        "print(MathOperations.subtract_numbers(10, 4))"
      ],
      "metadata": {
        "colab": {
          "base_uri": "https://localhost:8080/"
        },
        "id": "ra9iZH0wJKZk",
        "outputId": "9ca9c065-8953-4a50-d32b-521894c22eec"
      },
      "execution_count": null,
      "outputs": [
        {
          "output_type": "stream",
          "name": "stdout",
          "text": [
            "8\n",
            "6\n"
          ]
        }
      ]
    },
    {
      "cell_type": "code",
      "source": [
        "#8.\n",
        "class Person:\n",
        "    count = 0\n",
        "    def __init__(self):\n",
        "        Person.count += 1\n",
        "    @classmethod\n",
        "    def total_persons(cls):\n",
        "        return cls.count\n",
        "\n",
        "p1 = Person()\n",
        "p2 = Person()\n",
        "p3 = Person()\n",
        "print(Person.total_persons())"
      ],
      "metadata": {
        "colab": {
          "base_uri": "https://localhost:8080/"
        },
        "id": "qVTpKYbXJKWo",
        "outputId": "6352a1b9-395a-4a60-f683-3b684bf18711"
      },
      "execution_count": null,
      "outputs": [
        {
          "output_type": "stream",
          "name": "stdout",
          "text": [
            "3\n"
          ]
        }
      ]
    },
    {
      "cell_type": "code",
      "source": [
        "#9.\n",
        "class Fraction:\n",
        "    def __init__(self, numerator, denominator):\n",
        "        self.numerator = numerator\n",
        "        self.denominator = denominator\n",
        "    def __str__(self):\n",
        "        return f\"{self.numerator}/{self.denominator}\"\n",
        "F=Fraction(3,4)\n",
        "print(F)\n"
      ],
      "metadata": {
        "colab": {
          "base_uri": "https://localhost:8080/"
        },
        "id": "gHoIC25-JKTy",
        "outputId": "e7d1075a-8cd9-4307-9126-2ea87319117c"
      },
      "execution_count": null,
      "outputs": [
        {
          "output_type": "stream",
          "name": "stdout",
          "text": [
            "3/4\n"
          ]
        }
      ]
    },
    {
      "cell_type": "code",
      "source": [
        "#10.\n",
        "class Vector:\n",
        "    def __init__(self, x, y):\n",
        "        self.x = x\n",
        "        self.y = y\n",
        "    def __add__(self, other):\n",
        "        return Vector(self.x + other.x, self.y + other.y)\n",
        "    def __str__(self):\n",
        "        return f\"({self.x}, {self.y})\"\n",
        "v1 = Vector(1, 2)\n",
        "v2 = Vector(3, 4)\n",
        "result = v1 + v2\n",
        "print(result)"
      ],
      "metadata": {
        "colab": {
          "base_uri": "https://localhost:8080/"
        },
        "id": "Z2cGynDdJKQ-",
        "outputId": "063282ca-0544-4050-cd8d-165f37ffba38"
      },
      "execution_count": null,
      "outputs": [
        {
          "output_type": "stream",
          "name": "stdout",
          "text": [
            "(4, 6)\n"
          ]
        }
      ]
    },
    {
      "cell_type": "code",
      "source": [
        "#11.\n",
        "class Person:\n",
        "    def __init__(self, name, age):\n",
        "        self.name = name\n",
        "        self.age = age\n",
        "    def greet(self):\n",
        "        print(f\"Hello, my name is {self.name} and I am {self.age} years old.\")\n",
        "Person.name = \"Suraj\"\n",
        "Person.age = 24\n",
        "p1 = Person(Person.name, Person.age)\n",
        "p1.greet()"
      ],
      "metadata": {
        "colab": {
          "base_uri": "https://localhost:8080/"
        },
        "id": "DaUBmzfNJKOV",
        "outputId": "9c2e5c98-3a2c-4ef1-cd24-346044964b79"
      },
      "execution_count": null,
      "outputs": [
        {
          "output_type": "stream",
          "name": "stdout",
          "text": [
            "Hello, my name is Suraj and I am 24 years old.\n"
          ]
        }
      ]
    },
    {
      "cell_type": "code",
      "source": [
        "#12.\n",
        "class Student:\n",
        "    def __init__(self, name, grades):\n",
        "        self.name = name\n",
        "        self.grades = grades\n",
        "    def average_grade(self):\n",
        "        return sum(self.grades) / len(self.grades)\n",
        "S=Student(\"Suraj\",[94,96,98])\n",
        "print(S.average_grade())"
      ],
      "metadata": {
        "colab": {
          "base_uri": "https://localhost:8080/"
        },
        "id": "hzKXxbKlJKLP",
        "outputId": "c51bb643-b6d3-4c27-caf6-b5be9a115768"
      },
      "execution_count": null,
      "outputs": [
        {
          "output_type": "stream",
          "name": "stdout",
          "text": [
            "96.0\n"
          ]
        }
      ]
    },
    {
      "cell_type": "code",
      "source": [
        "#13.\n",
        "class Rectangle:\n",
        "    def set_dimensions(self, length, width):\n",
        "        self.length = length\n",
        "        self.width = width\n",
        "    def area(self):\n",
        "        return self.length * self.width\n",
        "\n",
        "R=Rectangle()\n",
        "R.set_dimensions(5,7)\n",
        "print(R.area())"
      ],
      "metadata": {
        "colab": {
          "base_uri": "https://localhost:8080/"
        },
        "id": "VKjtkHGWJKIX",
        "outputId": "fd59175c-fa59-4d1c-cb46-75735c0bc79c"
      },
      "execution_count": null,
      "outputs": [
        {
          "output_type": "stream",
          "name": "stdout",
          "text": [
            "35\n"
          ]
        }
      ]
    },
    {
      "cell_type": "code",
      "source": [
        "#14.\n",
        "class Employee:\n",
        "    def __init__(self, hours_worked, hourly_rate):\n",
        "        self.hours_worked = hours_worked\n",
        "        self.hourly_rate = hourly_rate\n",
        "    def calculate_salary(self):\n",
        "        return self.hours_worked * self.hourly_rate\n",
        "\n",
        "class Manager(Employee):\n",
        "    def __init__(self, hours_worked, hourly_rate, bonus):\n",
        "        super().__init__(hours_worked, hourly_rate)\n",
        "        self.bonus = bonus\n",
        "    def calculate_salary(self):\n",
        "        return super().calculate_salary() + self.bonus\n",
        "\n",
        "M=Manager(40,50,1000)\n",
        "print(M.calculate_salary())\n"
      ],
      "metadata": {
        "colab": {
          "base_uri": "https://localhost:8080/"
        },
        "id": "3ZBWKikrJKFu",
        "outputId": "fe77a08a-23af-4e00-e869-7c57e4cd53e7"
      },
      "execution_count": null,
      "outputs": [
        {
          "output_type": "stream",
          "name": "stdout",
          "text": [
            "3000\n"
          ]
        }
      ]
    },
    {
      "cell_type": "code",
      "source": [
        "#15.\n",
        "class Product:\n",
        "    def __init__(self, name, price, quantity):\n",
        "        self.name = name\n",
        "        self.price = price\n",
        "        self.quantity = quantity\n",
        "    def total_price(self):\n",
        "        return self.price * self.quantity\n",
        "P=Product(\"Iphone\",84000,2)\n",
        "print(P.total_price())"
      ],
      "metadata": {
        "colab": {
          "base_uri": "https://localhost:8080/"
        },
        "id": "f4HLOLKgJK5B",
        "outputId": "49a5db22-e3e5-4a7c-b2cb-5063800d0c6b"
      },
      "execution_count": null,
      "outputs": [
        {
          "output_type": "stream",
          "name": "stdout",
          "text": [
            "168000\n"
          ]
        }
      ]
    },
    {
      "cell_type": "code",
      "source": [
        "#16.\n",
        "from abc import ABC, abstractmethod\n",
        "class Animal(ABC):\n",
        "    @abstractmethod\n",
        "    def sound(self): pass\n",
        "\n",
        "class Cow(Animal):\n",
        "    def sound(self): return \"Moo\"\n",
        "\n",
        "class Sheep(Animal):\n",
        "    def sound(self): return \"Baa\"\n",
        "\n",
        "C=Cow()\n",
        "S=Sheep()\n",
        "print(C.sound())\n",
        "print(S.sound())"
      ],
      "metadata": {
        "colab": {
          "base_uri": "https://localhost:8080/"
        },
        "id": "vvpL_fQwJK2a",
        "outputId": "e785c759-5037-43f4-8491-5225d00dd84b"
      },
      "execution_count": null,
      "outputs": [
        {
          "output_type": "stream",
          "name": "stdout",
          "text": [
            "Moo\n",
            "Baa\n"
          ]
        }
      ]
    },
    {
      "cell_type": "code",
      "source": [
        "#17.\n",
        "class Book:\n",
        "    def __init__(self, title, author, year_published):\n",
        "        self.title = title\n",
        "        self.author = author\n",
        "        self.year_published = year_published\n",
        "    def get_book_info(self):\n",
        "        return f\"{self.title} by {self.author}, published in {self.year_published}\"\n",
        "B=Book(\"The Alchemist\",\"Paulo Coelho\",1988)\n",
        "print(B.get_book_info())\n"
      ],
      "metadata": {
        "colab": {
          "base_uri": "https://localhost:8080/"
        },
        "id": "0Lg8lGD3JKzj",
        "outputId": "18552c66-f729-4216-99b5-3f2195b91a50"
      },
      "execution_count": null,
      "outputs": [
        {
          "output_type": "stream",
          "name": "stdout",
          "text": [
            "The Alchemist by Paulo Coelho, published in 1988\n"
          ]
        }
      ]
    },
    {
      "cell_type": "code",
      "source": [
        "#18.\n",
        "class House:\n",
        "    def __init__(self, address, price):\n",
        "        self.address = address\n",
        "        self.price = price\n",
        "\n",
        "class Mansion(House):\n",
        "    def __init__(self, address, price, number_of_rooms):\n",
        "        super().__init__(address, price)\n",
        "        self.number_of_rooms = number_of_rooms\n",
        "H=House(\"Mumbai\",100)\n",
        "M=Mansion(\"Mumbai\",100,5)\n",
        "print(M.address)\n",
        "print(M.price)\n",
        "print(M.number_of_rooms)"
      ],
      "metadata": {
        "colab": {
          "base_uri": "https://localhost:8080/"
        },
        "id": "NCUcgzhWJKws",
        "outputId": "cc37855b-56b4-4d31-d657-c899b376e1be"
      },
      "execution_count": null,
      "outputs": [
        {
          "output_type": "stream",
          "name": "stdout",
          "text": [
            "Mumbai\n",
            "100\n",
            "5\n"
          ]
        }
      ]
    }
  ]
}